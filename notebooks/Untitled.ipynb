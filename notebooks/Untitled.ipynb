{
 "cells": [
  {
   "cell_type": "code",
   "execution_count": null,
   "id": "fe6ceae4",
   "metadata": {
    "ExecuteTime": {
     "start_time": "2021-11-26T16:19:59.719Z"
    }
   },
   "outputs": [],
   "source": [
    "%load_ext autoreload \n",
    "%autoreload \n",
    "from BTCPred.data import get_data_csv, clean_data, sequencing\n",
    "from BTCPred.encoders import scaler,split\n",
    "from BTCPred.trainer import lstm_model"
   ]
  },
  {
   "cell_type": "code",
   "execution_count": null,
   "id": "ebce8691",
   "metadata": {},
   "outputs": [],
   "source": []
  },
  {
   "cell_type": "code",
   "execution_count": null,
   "id": "52b19a0a",
   "metadata": {
    "ExecuteTime": {
     "start_time": "2021-11-26T16:19:59.720Z"
    }
   },
   "outputs": [],
   "source": [
    "data_df = get_data_csv()"
   ]
  },
  {
   "cell_type": "code",
   "execution_count": null,
   "id": "149cfed8",
   "metadata": {},
   "outputs": [],
   "source": []
  },
  {
   "cell_type": "code",
   "execution_count": null,
   "id": "42d5583b",
   "metadata": {
    "ExecuteTime": {
     "start_time": "2021-11-26T16:19:59.721Z"
    }
   },
   "outputs": [],
   "source": [
    "data_df"
   ]
  },
  {
   "cell_type": "code",
   "execution_count": null,
   "id": "cf3eef09",
   "metadata": {
    "ExecuteTime": {
     "start_time": "2021-11-26T16:19:59.722Z"
    }
   },
   "outputs": [],
   "source": [
    "data_cleaned = clean_data(data_df)\n",
    "data_cleaned.head()"
   ]
  },
  {
   "cell_type": "code",
   "execution_count": null,
   "id": "a4f70dd2",
   "metadata": {
    "ExecuteTime": {
     "start_time": "2021-11-26T16:19:59.723Z"
    }
   },
   "outputs": [],
   "source": [
    "X,y = sequencing(data_cleaned)"
   ]
  },
  {
   "cell_type": "code",
   "execution_count": null,
   "id": "d8632422",
   "metadata": {
    "ExecuteTime": {
     "start_time": "2021-11-26T16:19:59.723Z"
    }
   },
   "outputs": [],
   "source": [
    "X, y"
   ]
  },
  {
   "cell_type": "code",
   "execution_count": null,
   "id": "4fa3636e",
   "metadata": {
    "ExecuteTime": {
     "start_time": "2021-11-26T16:19:59.724Z"
    }
   },
   "outputs": [],
   "source": [
    "X_scaled, y_scaled = scaler(X,y)"
   ]
  },
  {
   "cell_type": "code",
   "execution_count": null,
   "id": "4b70923f",
   "metadata": {
    "ExecuteTime": {
     "start_time": "2021-11-26T16:19:59.725Z"
    }
   },
   "outputs": [],
   "source": [
    "X_scaled, y_scaled "
   ]
  },
  {
   "cell_type": "code",
   "execution_count": null,
   "id": "4c0d3119",
   "metadata": {
    "ExecuteTime": {
     "start_time": "2021-11-26T16:19:59.725Z"
    }
   },
   "outputs": [],
   "source": [
    "X_train, X_test, y_train, y_test = split(X_scaled, y_scaled)"
   ]
  },
  {
   "cell_type": "code",
   "execution_count": null,
   "id": "fac6cd23",
   "metadata": {
    "ExecuteTime": {
     "start_time": "2021-11-26T16:19:59.726Z"
    }
   },
   "outputs": [],
   "source": [
    "X_train "
   ]
  },
  {
   "cell_type": "code",
   "execution_count": null,
   "id": "c11f3708",
   "metadata": {},
   "outputs": [],
   "source": []
  }
 ],
 "metadata": {
  "kernelspec": {
   "display_name": "Python 3 (ipykernel)",
   "language": "python",
   "name": "python3"
  },
  "language_info": {
   "codemirror_mode": {
    "name": "ipython",
    "version": 3
   },
   "file_extension": ".py",
   "mimetype": "text/x-python",
   "name": "python",
   "nbconvert_exporter": "python",
   "pygments_lexer": "ipython3",
   "version": "3.8.12"
  },
  "toc": {
   "base_numbering": 1,
   "nav_menu": {},
   "number_sections": true,
   "sideBar": true,
   "skip_h1_title": false,
   "title_cell": "Table of Contents",
   "title_sidebar": "Contents",
   "toc_cell": false,
   "toc_position": {},
   "toc_section_display": true,
   "toc_window_display": false
  }
 },
 "nbformat": 4,
 "nbformat_minor": 5
}
