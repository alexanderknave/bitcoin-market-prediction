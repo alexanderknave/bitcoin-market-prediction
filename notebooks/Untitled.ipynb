{
 "cells": [
  {
   "cell_type": "code",
   "execution_count": 1,
   "id": "fe6ceae4",
   "metadata": {
    "ExecuteTime": {
     "end_time": "2021-11-29T16:01:13.638372Z",
     "start_time": "2021-11-29T16:01:09.308404Z"
    },
    "scrolled": true
   },
   "outputs": [
    {
     "name": "stderr",
     "output_type": "stream",
     "text": [
      "2021-11-29 17:01:10.545680: W tensorflow/stream_executor/platform/default/dso_loader.cc:64] Could not load dynamic library 'libcudart.so.11.0'; dlerror: libcudart.so.11.0: cannot open shared object file: No such file or directory\n",
      "2021-11-29 17:01:10.545805: I tensorflow/stream_executor/cuda/cudart_stub.cc:29] Ignore above cudart dlerror if you do not have a GPU set up on your machine.\n"
     ]
    }
   ],
   "source": [
    "%load_ext autoreload \n",
    "%autoreload \n",
    "from BTCPred.data import get_data_csv, clean_data, sequencing\n",
    "from BTCPred.encoders import scaler,split\n",
    "from BTCPred.trainer import Model"
   ]
  },
  {
   "cell_type": "code",
   "execution_count": 2,
   "id": "16a47c1b",
   "metadata": {
    "ExecuteTime": {
     "end_time": "2021-11-29T16:01:13.644363Z",
     "start_time": "2021-11-29T16:01:13.640245Z"
    }
   },
   "outputs": [],
   "source": [
    "import pandas as pd\n",
    "import seaborn as sns"
   ]
  },
  {
   "cell_type": "code",
   "execution_count": 3,
   "id": "ebce8691",
   "metadata": {
    "ExecuteTime": {
     "end_time": "2021-11-29T16:01:13.660507Z",
     "start_time": "2021-11-29T16:01:13.649622Z"
    }
   },
   "outputs": [
    {
     "name": "stdout",
     "output_type": "stream",
     "text": [
      "['/home/useradd/code/alexanderknave/bitcoin-market-prediction/notebooks', '/home/useradd/code/LucaVanTichelen/data-challenges/04-Decision-Science', '/home/useradd/code/alexanderknave/bitcoin-market-prediction/notebooks', '/home/useradd/.pyenv/versions/3.8.12/lib/python38.zip', '/home/useradd/.pyenv/versions/3.8.12/lib/python3.8', '/home/useradd/.pyenv/versions/3.8.12/lib/python3.8/lib-dynload', '', '/home/useradd/.pyenv/versions/3.8.12/envs/bitcoin-market-prediction/lib/python3.8/site-packages', '/home/useradd/.pyenv/versions/3.8.12/envs/bitcoin-market-prediction/lib/python3.8/site-packages/IPython/extensions', '/home/useradd/.ipython', '/home/useradd/code/alexanderknave/bitcoin-market-prediction']\n"
     ]
    }
   ],
   "source": [
    "import sys\n",
    "sys.path.append('/home/useradd/code/alexanderknave/bitcoin-market-prediction')\n",
    "print(sys.path)"
   ]
  },
  {
   "cell_type": "code",
   "execution_count": 4,
   "id": "52b19a0a",
   "metadata": {
    "ExecuteTime": {
     "end_time": "2021-11-29T16:01:13.722885Z",
     "start_time": "2021-11-29T16:01:13.665038Z"
    }
   },
   "outputs": [
    {
     "name": "stdout",
     "output_type": "stream",
     "text": [
      "data retrieved\n"
     ]
    }
   ],
   "source": [
    "data_df = get_data_csv()"
   ]
  },
  {
   "cell_type": "code",
   "execution_count": null,
   "id": "149cfed8",
   "metadata": {},
   "outputs": [],
   "source": []
  },
  {
   "cell_type": "code",
   "execution_count": 5,
   "id": "42d5583b",
   "metadata": {
    "ExecuteTime": {
     "end_time": "2021-11-29T16:01:13.797697Z",
     "start_time": "2021-11-29T16:01:13.726932Z"
    }
   },
   "outputs": [
    {
     "data": {
      "text/html": [
       "<div>\n",
       "<style scoped>\n",
       "    .dataframe tbody tr th:only-of-type {\n",
       "        vertical-align: middle;\n",
       "    }\n",
       "\n",
       "    .dataframe tbody tr th {\n",
       "        vertical-align: top;\n",
       "    }\n",
       "\n",
       "    .dataframe thead th {\n",
       "        text-align: right;\n",
       "    }\n",
       "</style>\n",
       "<table border=\"1\" class=\"dataframe\">\n",
       "  <thead>\n",
       "    <tr style=\"text-align: right;\">\n",
       "      <th></th>\n",
       "      <th>unix</th>\n",
       "      <th>date</th>\n",
       "      <th>symbol</th>\n",
       "      <th>open</th>\n",
       "      <th>high</th>\n",
       "      <th>low</th>\n",
       "      <th>close</th>\n",
       "      <th>Volume BTC</th>\n",
       "      <th>Volume USD</th>\n",
       "    </tr>\n",
       "  </thead>\n",
       "  <tbody>\n",
       "    <tr>\n",
       "      <th>0</th>\n",
       "      <td>1.637453e+12</td>\n",
       "      <td>2021-11-21 00:00:00</td>\n",
       "      <td>BTC/USD</td>\n",
       "      <td>59744.0</td>\n",
       "      <td>59800.0</td>\n",
       "      <td>59595.0</td>\n",
       "      <td>59605.0</td>\n",
       "      <td>117.237747</td>\n",
       "      <td>6.987956e+06</td>\n",
       "    </tr>\n",
       "    <tr>\n",
       "      <th>1</th>\n",
       "      <td>1.637449e+12</td>\n",
       "      <td>2021-11-20 23:00:00</td>\n",
       "      <td>BTC/USD</td>\n",
       "      <td>59725.0</td>\n",
       "      <td>59887.0</td>\n",
       "      <td>59545.0</td>\n",
       "      <td>59744.0</td>\n",
       "      <td>301.120544</td>\n",
       "      <td>1.799015e+07</td>\n",
       "    </tr>\n",
       "    <tr>\n",
       "      <th>2</th>\n",
       "      <td>1.637446e+12</td>\n",
       "      <td>2021-11-20 22:00:00</td>\n",
       "      <td>BTC/USD</td>\n",
       "      <td>59641.0</td>\n",
       "      <td>59750.0</td>\n",
       "      <td>59555.0</td>\n",
       "      <td>59723.0</td>\n",
       "      <td>142.799885</td>\n",
       "      <td>8.528438e+06</td>\n",
       "    </tr>\n",
       "    <tr>\n",
       "      <th>3</th>\n",
       "      <td>1.637442e+12</td>\n",
       "      <td>2021-11-20 21:00:00</td>\n",
       "      <td>BTC/USD</td>\n",
       "      <td>59452.0</td>\n",
       "      <td>59691.0</td>\n",
       "      <td>59396.0</td>\n",
       "      <td>59636.0</td>\n",
       "      <td>221.857940</td>\n",
       "      <td>1.323072e+07</td>\n",
       "    </tr>\n",
       "    <tr>\n",
       "      <th>4</th>\n",
       "      <td>1.637438e+12</td>\n",
       "      <td>2021-11-20 20:00:00</td>\n",
       "      <td>BTC/USD</td>\n",
       "      <td>59480.0</td>\n",
       "      <td>59567.0</td>\n",
       "      <td>59352.0</td>\n",
       "      <td>59452.0</td>\n",
       "      <td>206.936323</td>\n",
       "      <td>1.230278e+07</td>\n",
       "    </tr>\n",
       "    <tr>\n",
       "      <th>...</th>\n",
       "      <td>...</td>\n",
       "      <td>...</td>\n",
       "      <td>...</td>\n",
       "      <td>...</td>\n",
       "      <td>...</td>\n",
       "      <td>...</td>\n",
       "      <td>...</td>\n",
       "      <td>...</td>\n",
       "      <td>...</td>\n",
       "    </tr>\n",
       "    <tr>\n",
       "      <th>13693</th>\n",
       "      <td>1.588158e+12</td>\n",
       "      <td>2020-04-29 11:00:00</td>\n",
       "      <td>BTC/USD</td>\n",
       "      <td>8130.0</td>\n",
       "      <td>8196.5</td>\n",
       "      <td>8124.0</td>\n",
       "      <td>8142.0</td>\n",
       "      <td>124.709427</td>\n",
       "      <td>1.015384e+06</td>\n",
       "    </tr>\n",
       "    <tr>\n",
       "      <th>13694</th>\n",
       "      <td>1.588154e+12</td>\n",
       "      <td>2020-04-29 10:00:00</td>\n",
       "      <td>BTC/USD</td>\n",
       "      <td>7993.0</td>\n",
       "      <td>8179.0</td>\n",
       "      <td>7983.5</td>\n",
       "      <td>8130.0</td>\n",
       "      <td>169.378107</td>\n",
       "      <td>1.377044e+06</td>\n",
       "    </tr>\n",
       "    <tr>\n",
       "      <th>13695</th>\n",
       "      <td>1.588151e+12</td>\n",
       "      <td>2020-04-29 09:00:00</td>\n",
       "      <td>BTC/USD</td>\n",
       "      <td>7957.0</td>\n",
       "      <td>8032.5</td>\n",
       "      <td>7952.0</td>\n",
       "      <td>7993.0</td>\n",
       "      <td>130.252126</td>\n",
       "      <td>1.041105e+06</td>\n",
       "    </tr>\n",
       "    <tr>\n",
       "      <th>13696</th>\n",
       "      <td>1.588147e+12</td>\n",
       "      <td>2020-04-29 08:00:00</td>\n",
       "      <td>BTC/USD</td>\n",
       "      <td>7961.0</td>\n",
       "      <td>7977.5</td>\n",
       "      <td>7942.5</td>\n",
       "      <td>7957.0</td>\n",
       "      <td>12.558909</td>\n",
       "      <td>9.993124e+04</td>\n",
       "    </tr>\n",
       "    <tr>\n",
       "      <th>13697</th>\n",
       "      <td>1.588144e+12</td>\n",
       "      <td>2020-04-29 07:00:00</td>\n",
       "      <td>BTC/USD</td>\n",
       "      <td>7959.5</td>\n",
       "      <td>7977.5</td>\n",
       "      <td>7928.0</td>\n",
       "      <td>7961.0</td>\n",
       "      <td>73.040033</td>\n",
       "      <td>5.814717e+05</td>\n",
       "    </tr>\n",
       "  </tbody>\n",
       "</table>\n",
       "<p>13698 rows × 9 columns</p>\n",
       "</div>"
      ],
      "text/plain": [
       "               unix                 date   symbol     open     high      low  \\\n",
       "0      1.637453e+12  2021-11-21 00:00:00  BTC/USD  59744.0  59800.0  59595.0   \n",
       "1      1.637449e+12  2021-11-20 23:00:00  BTC/USD  59725.0  59887.0  59545.0   \n",
       "2      1.637446e+12  2021-11-20 22:00:00  BTC/USD  59641.0  59750.0  59555.0   \n",
       "3      1.637442e+12  2021-11-20 21:00:00  BTC/USD  59452.0  59691.0  59396.0   \n",
       "4      1.637438e+12  2021-11-20 20:00:00  BTC/USD  59480.0  59567.0  59352.0   \n",
       "...             ...                  ...      ...      ...      ...      ...   \n",
       "13693  1.588158e+12  2020-04-29 11:00:00  BTC/USD   8130.0   8196.5   8124.0   \n",
       "13694  1.588154e+12  2020-04-29 10:00:00  BTC/USD   7993.0   8179.0   7983.5   \n",
       "13695  1.588151e+12  2020-04-29 09:00:00  BTC/USD   7957.0   8032.5   7952.0   \n",
       "13696  1.588147e+12  2020-04-29 08:00:00  BTC/USD   7961.0   7977.5   7942.5   \n",
       "13697  1.588144e+12  2020-04-29 07:00:00  BTC/USD   7959.5   7977.5   7928.0   \n",
       "\n",
       "         close  Volume BTC    Volume USD  \n",
       "0      59605.0  117.237747  6.987956e+06  \n",
       "1      59744.0  301.120544  1.799015e+07  \n",
       "2      59723.0  142.799885  8.528438e+06  \n",
       "3      59636.0  221.857940  1.323072e+07  \n",
       "4      59452.0  206.936323  1.230278e+07  \n",
       "...        ...         ...           ...  \n",
       "13693   8142.0  124.709427  1.015384e+06  \n",
       "13694   8130.0  169.378107  1.377044e+06  \n",
       "13695   7993.0  130.252126  1.041105e+06  \n",
       "13696   7957.0   12.558909  9.993124e+04  \n",
       "13697   7961.0   73.040033  5.814717e+05  \n",
       "\n",
       "[13698 rows x 9 columns]"
      ]
     },
     "execution_count": 5,
     "metadata": {},
     "output_type": "execute_result"
    }
   ],
   "source": [
    "data_df"
   ]
  },
  {
   "cell_type": "code",
   "execution_count": 90,
   "id": "cf3eef09",
   "metadata": {
    "ExecuteTime": {
     "end_time": "2021-11-29T17:01:55.882706Z",
     "start_time": "2021-11-29T17:01:55.834200Z"
    }
   },
   "outputs": [
    {
     "name": "stdout",
     "output_type": "stream",
     "text": [
      "data cleaned\n"
     ]
    },
    {
     "data": {
      "text/html": [
       "<div>\n",
       "<style scoped>\n",
       "    .dataframe tbody tr th:only-of-type {\n",
       "        vertical-align: middle;\n",
       "    }\n",
       "\n",
       "    .dataframe tbody tr th {\n",
       "        vertical-align: top;\n",
       "    }\n",
       "\n",
       "    .dataframe thead th {\n",
       "        text-align: right;\n",
       "    }\n",
       "</style>\n",
       "<table border=\"1\" class=\"dataframe\">\n",
       "  <thead>\n",
       "    <tr style=\"text-align: right;\">\n",
       "      <th></th>\n",
       "      <th>unix</th>\n",
       "      <th>date</th>\n",
       "      <th>symbol</th>\n",
       "      <th>open</th>\n",
       "      <th>high</th>\n",
       "      <th>low</th>\n",
       "      <th>close</th>\n",
       "      <th>Volume BTC</th>\n",
       "      <th>Volume USD</th>\n",
       "    </tr>\n",
       "  </thead>\n",
       "  <tbody>\n",
       "    <tr>\n",
       "      <th>13697</th>\n",
       "      <td>1.588144e+12</td>\n",
       "      <td>2020-04-29 07:00:00</td>\n",
       "      <td>BTC/USD</td>\n",
       "      <td>7959.5</td>\n",
       "      <td>7977.5</td>\n",
       "      <td>7928.0</td>\n",
       "      <td>7961.0</td>\n",
       "      <td>73.040033</td>\n",
       "      <td>5.814717e+05</td>\n",
       "    </tr>\n",
       "    <tr>\n",
       "      <th>13696</th>\n",
       "      <td>1.588147e+12</td>\n",
       "      <td>2020-04-29 08:00:00</td>\n",
       "      <td>BTC/USD</td>\n",
       "      <td>7961.0</td>\n",
       "      <td>7977.5</td>\n",
       "      <td>7942.5</td>\n",
       "      <td>7957.0</td>\n",
       "      <td>12.558909</td>\n",
       "      <td>9.993124e+04</td>\n",
       "    </tr>\n",
       "    <tr>\n",
       "      <th>13695</th>\n",
       "      <td>1.588151e+12</td>\n",
       "      <td>2020-04-29 09:00:00</td>\n",
       "      <td>BTC/USD</td>\n",
       "      <td>7957.0</td>\n",
       "      <td>8032.5</td>\n",
       "      <td>7952.0</td>\n",
       "      <td>7993.0</td>\n",
       "      <td>130.252126</td>\n",
       "      <td>1.041105e+06</td>\n",
       "    </tr>\n",
       "    <tr>\n",
       "      <th>13694</th>\n",
       "      <td>1.588154e+12</td>\n",
       "      <td>2020-04-29 10:00:00</td>\n",
       "      <td>BTC/USD</td>\n",
       "      <td>7993.0</td>\n",
       "      <td>8179.0</td>\n",
       "      <td>7983.5</td>\n",
       "      <td>8130.0</td>\n",
       "      <td>169.378107</td>\n",
       "      <td>1.377044e+06</td>\n",
       "    </tr>\n",
       "    <tr>\n",
       "      <th>13693</th>\n",
       "      <td>1.588158e+12</td>\n",
       "      <td>2020-04-29 11:00:00</td>\n",
       "      <td>BTC/USD</td>\n",
       "      <td>8130.0</td>\n",
       "      <td>8196.5</td>\n",
       "      <td>8124.0</td>\n",
       "      <td>8142.0</td>\n",
       "      <td>124.709427</td>\n",
       "      <td>1.015384e+06</td>\n",
       "    </tr>\n",
       "    <tr>\n",
       "      <th>13692</th>\n",
       "      <td>1.588162e+12</td>\n",
       "      <td>2020-04-29 12:00:00</td>\n",
       "      <td>BTC/USD</td>\n",
       "      <td>8142.0</td>\n",
       "      <td>8275.0</td>\n",
       "      <td>8142.0</td>\n",
       "      <td>8264.0</td>\n",
       "      <td>79.697201</td>\n",
       "      <td>6.586177e+05</td>\n",
       "    </tr>\n",
       "    <tr>\n",
       "      <th>13691</th>\n",
       "      <td>1.588165e+12</td>\n",
       "      <td>2020-04-29 13:00:00</td>\n",
       "      <td>BTC/USD</td>\n",
       "      <td>8264.0</td>\n",
       "      <td>8409.0</td>\n",
       "      <td>8261.0</td>\n",
       "      <td>8314.5</td>\n",
       "      <td>213.086753</td>\n",
       "      <td>1.771710e+06</td>\n",
       "    </tr>\n",
       "    <tr>\n",
       "      <th>13690</th>\n",
       "      <td>1.588169e+12</td>\n",
       "      <td>2020-04-29 14:00:00</td>\n",
       "      <td>BTC/USD</td>\n",
       "      <td>8314.5</td>\n",
       "      <td>8372.5</td>\n",
       "      <td>8282.5</td>\n",
       "      <td>8368.5</td>\n",
       "      <td>65.134217</td>\n",
       "      <td>5.450757e+05</td>\n",
       "    </tr>\n",
       "    <tr>\n",
       "      <th>13689</th>\n",
       "      <td>1.588172e+12</td>\n",
       "      <td>2020-04-29 15:00:00</td>\n",
       "      <td>BTC/USD</td>\n",
       "      <td>8368.5</td>\n",
       "      <td>8389.5</td>\n",
       "      <td>8307.5</td>\n",
       "      <td>8382.0</td>\n",
       "      <td>22.193347</td>\n",
       "      <td>1.860246e+05</td>\n",
       "    </tr>\n",
       "    <tr>\n",
       "      <th>13688</th>\n",
       "      <td>1.588176e+12</td>\n",
       "      <td>2020-04-29 16:00:00</td>\n",
       "      <td>BTC/USD</td>\n",
       "      <td>8382.0</td>\n",
       "      <td>8789.0</td>\n",
       "      <td>8351.0</td>\n",
       "      <td>8605.0</td>\n",
       "      <td>287.687029</td>\n",
       "      <td>2.475547e+06</td>\n",
       "    </tr>\n",
       "    <tr>\n",
       "      <th>13687</th>\n",
       "      <td>1.588180e+12</td>\n",
       "      <td>2020-04-29 17:00:00</td>\n",
       "      <td>BTC/USD</td>\n",
       "      <td>8605.0</td>\n",
       "      <td>8978.0</td>\n",
       "      <td>8602.0</td>\n",
       "      <td>8734.5</td>\n",
       "      <td>404.181230</td>\n",
       "      <td>3.530321e+06</td>\n",
       "    </tr>\n",
       "    <tr>\n",
       "      <th>13686</th>\n",
       "      <td>1.588183e+12</td>\n",
       "      <td>2020-04-29 18:00:00</td>\n",
       "      <td>BTC/USD</td>\n",
       "      <td>8734.5</td>\n",
       "      <td>8761.0</td>\n",
       "      <td>8591.0</td>\n",
       "      <td>8635.5</td>\n",
       "      <td>328.329203</td>\n",
       "      <td>2.835287e+06</td>\n",
       "    </tr>\n",
       "    <tr>\n",
       "      <th>13685</th>\n",
       "      <td>1.588187e+12</td>\n",
       "      <td>2020-04-29 19:00:00</td>\n",
       "      <td>BTC/USD</td>\n",
       "      <td>8635.5</td>\n",
       "      <td>8794.5</td>\n",
       "      <td>8634.0</td>\n",
       "      <td>8732.5</td>\n",
       "      <td>147.169508</td>\n",
       "      <td>1.285158e+06</td>\n",
       "    </tr>\n",
       "    <tr>\n",
       "      <th>13684</th>\n",
       "      <td>1.588190e+12</td>\n",
       "      <td>2020-04-29 20:00:00</td>\n",
       "      <td>BTC/USD</td>\n",
       "      <td>8732.5</td>\n",
       "      <td>8939.5</td>\n",
       "      <td>8717.0</td>\n",
       "      <td>8930.0</td>\n",
       "      <td>146.216882</td>\n",
       "      <td>1.305717e+06</td>\n",
       "    </tr>\n",
       "    <tr>\n",
       "      <th>13683</th>\n",
       "      <td>1.588194e+12</td>\n",
       "      <td>2020-04-29 21:00:00</td>\n",
       "      <td>BTC/USD</td>\n",
       "      <td>8930.0</td>\n",
       "      <td>8950.5</td>\n",
       "      <td>8772.5</td>\n",
       "      <td>8870.0</td>\n",
       "      <td>266.639717</td>\n",
       "      <td>2.365094e+06</td>\n",
       "    </tr>\n",
       "    <tr>\n",
       "      <th>13682</th>\n",
       "      <td>1.588198e+12</td>\n",
       "      <td>2020-04-29 22:00:00</td>\n",
       "      <td>BTC/USD</td>\n",
       "      <td>8870.0</td>\n",
       "      <td>8870.0</td>\n",
       "      <td>8698.5</td>\n",
       "      <td>8768.0</td>\n",
       "      <td>161.650918</td>\n",
       "      <td>1.417355e+06</td>\n",
       "    </tr>\n",
       "    <tr>\n",
       "      <th>13681</th>\n",
       "      <td>1.588201e+12</td>\n",
       "      <td>2020-04-29 23:00:00</td>\n",
       "      <td>BTC/USD</td>\n",
       "      <td>8768.0</td>\n",
       "      <td>8801.5</td>\n",
       "      <td>8704.0</td>\n",
       "      <td>8788.5</td>\n",
       "      <td>56.447502</td>\n",
       "      <td>4.960889e+05</td>\n",
       "    </tr>\n",
       "    <tr>\n",
       "      <th>13680</th>\n",
       "      <td>1.588205e+12</td>\n",
       "      <td>2020-04-30 00:00:00</td>\n",
       "      <td>BTC/USD</td>\n",
       "      <td>8788.5</td>\n",
       "      <td>8827.5</td>\n",
       "      <td>8716.5</td>\n",
       "      <td>8821.0</td>\n",
       "      <td>128.887370</td>\n",
       "      <td>1.136915e+06</td>\n",
       "    </tr>\n",
       "    <tr>\n",
       "      <th>13679</th>\n",
       "      <td>1.588208e+12</td>\n",
       "      <td>2020-04-30 01:00:00</td>\n",
       "      <td>BTC/USD</td>\n",
       "      <td>8821.0</td>\n",
       "      <td>8879.5</td>\n",
       "      <td>8804.5</td>\n",
       "      <td>8855.0</td>\n",
       "      <td>118.812448</td>\n",
       "      <td>1.052084e+06</td>\n",
       "    </tr>\n",
       "    <tr>\n",
       "      <th>13678</th>\n",
       "      <td>1.588212e+12</td>\n",
       "      <td>2020-04-30 02:00:00</td>\n",
       "      <td>BTC/USD</td>\n",
       "      <td>8855.0</td>\n",
       "      <td>8979.5</td>\n",
       "      <td>8823.0</td>\n",
       "      <td>8951.0</td>\n",
       "      <td>92.431231</td>\n",
       "      <td>8.273520e+05</td>\n",
       "    </tr>\n",
       "    <tr>\n",
       "      <th>13677</th>\n",
       "      <td>1.588216e+12</td>\n",
       "      <td>2020-04-30 03:00:00</td>\n",
       "      <td>BTC/USD</td>\n",
       "      <td>8951.0</td>\n",
       "      <td>9314.0</td>\n",
       "      <td>8860.0</td>\n",
       "      <td>9304.5</td>\n",
       "      <td>578.979390</td>\n",
       "      <td>5.387114e+06</td>\n",
       "    </tr>\n",
       "    <tr>\n",
       "      <th>13676</th>\n",
       "      <td>1.588219e+12</td>\n",
       "      <td>2020-04-30 04:00:00</td>\n",
       "      <td>BTC/USD</td>\n",
       "      <td>9304.5</td>\n",
       "      <td>9304.5</td>\n",
       "      <td>8878.5</td>\n",
       "      <td>9169.0</td>\n",
       "      <td>308.433318</td>\n",
       "      <td>2.828025e+06</td>\n",
       "    </tr>\n",
       "    <tr>\n",
       "      <th>13675</th>\n",
       "      <td>1.588223e+12</td>\n",
       "      <td>2020-04-30 05:00:00</td>\n",
       "      <td>BTC/USD</td>\n",
       "      <td>9169.0</td>\n",
       "      <td>9415.0</td>\n",
       "      <td>9169.0</td>\n",
       "      <td>9383.5</td>\n",
       "      <td>117.679834</td>\n",
       "      <td>1.104249e+06</td>\n",
       "    </tr>\n",
       "    <tr>\n",
       "      <th>13674</th>\n",
       "      <td>1.588226e+12</td>\n",
       "      <td>2020-04-30 06:00:00</td>\n",
       "      <td>BTC/USD</td>\n",
       "      <td>9383.5</td>\n",
       "      <td>9468.0</td>\n",
       "      <td>9245.5</td>\n",
       "      <td>9327.0</td>\n",
       "      <td>389.720786</td>\n",
       "      <td>3.634926e+06</td>\n",
       "    </tr>\n",
       "    <tr>\n",
       "      <th>13673</th>\n",
       "      <td>1.588230e+12</td>\n",
       "      <td>2020-04-30 07:00:00</td>\n",
       "      <td>BTC/USD</td>\n",
       "      <td>9327.0</td>\n",
       "      <td>9344.0</td>\n",
       "      <td>9029.5</td>\n",
       "      <td>9185.5</td>\n",
       "      <td>284.333351</td>\n",
       "      <td>2.611744e+06</td>\n",
       "    </tr>\n",
       "  </tbody>\n",
       "</table>\n",
       "</div>"
      ],
      "text/plain": [
       "               unix                 date   symbol    open    high     low  \\\n",
       "13697  1.588144e+12  2020-04-29 07:00:00  BTC/USD  7959.5  7977.5  7928.0   \n",
       "13696  1.588147e+12  2020-04-29 08:00:00  BTC/USD  7961.0  7977.5  7942.5   \n",
       "13695  1.588151e+12  2020-04-29 09:00:00  BTC/USD  7957.0  8032.5  7952.0   \n",
       "13694  1.588154e+12  2020-04-29 10:00:00  BTC/USD  7993.0  8179.0  7983.5   \n",
       "13693  1.588158e+12  2020-04-29 11:00:00  BTC/USD  8130.0  8196.5  8124.0   \n",
       "13692  1.588162e+12  2020-04-29 12:00:00  BTC/USD  8142.0  8275.0  8142.0   \n",
       "13691  1.588165e+12  2020-04-29 13:00:00  BTC/USD  8264.0  8409.0  8261.0   \n",
       "13690  1.588169e+12  2020-04-29 14:00:00  BTC/USD  8314.5  8372.5  8282.5   \n",
       "13689  1.588172e+12  2020-04-29 15:00:00  BTC/USD  8368.5  8389.5  8307.5   \n",
       "13688  1.588176e+12  2020-04-29 16:00:00  BTC/USD  8382.0  8789.0  8351.0   \n",
       "13687  1.588180e+12  2020-04-29 17:00:00  BTC/USD  8605.0  8978.0  8602.0   \n",
       "13686  1.588183e+12  2020-04-29 18:00:00  BTC/USD  8734.5  8761.0  8591.0   \n",
       "13685  1.588187e+12  2020-04-29 19:00:00  BTC/USD  8635.5  8794.5  8634.0   \n",
       "13684  1.588190e+12  2020-04-29 20:00:00  BTC/USD  8732.5  8939.5  8717.0   \n",
       "13683  1.588194e+12  2020-04-29 21:00:00  BTC/USD  8930.0  8950.5  8772.5   \n",
       "13682  1.588198e+12  2020-04-29 22:00:00  BTC/USD  8870.0  8870.0  8698.5   \n",
       "13681  1.588201e+12  2020-04-29 23:00:00  BTC/USD  8768.0  8801.5  8704.0   \n",
       "13680  1.588205e+12  2020-04-30 00:00:00  BTC/USD  8788.5  8827.5  8716.5   \n",
       "13679  1.588208e+12  2020-04-30 01:00:00  BTC/USD  8821.0  8879.5  8804.5   \n",
       "13678  1.588212e+12  2020-04-30 02:00:00  BTC/USD  8855.0  8979.5  8823.0   \n",
       "13677  1.588216e+12  2020-04-30 03:00:00  BTC/USD  8951.0  9314.0  8860.0   \n",
       "13676  1.588219e+12  2020-04-30 04:00:00  BTC/USD  9304.5  9304.5  8878.5   \n",
       "13675  1.588223e+12  2020-04-30 05:00:00  BTC/USD  9169.0  9415.0  9169.0   \n",
       "13674  1.588226e+12  2020-04-30 06:00:00  BTC/USD  9383.5  9468.0  9245.5   \n",
       "13673  1.588230e+12  2020-04-30 07:00:00  BTC/USD  9327.0  9344.0  9029.5   \n",
       "\n",
       "        close  Volume BTC    Volume USD  \n",
       "13697  7961.0   73.040033  5.814717e+05  \n",
       "13696  7957.0   12.558909  9.993124e+04  \n",
       "13695  7993.0  130.252126  1.041105e+06  \n",
       "13694  8130.0  169.378107  1.377044e+06  \n",
       "13693  8142.0  124.709427  1.015384e+06  \n",
       "13692  8264.0   79.697201  6.586177e+05  \n",
       "13691  8314.5  213.086753  1.771710e+06  \n",
       "13690  8368.5   65.134217  5.450757e+05  \n",
       "13689  8382.0   22.193347  1.860246e+05  \n",
       "13688  8605.0  287.687029  2.475547e+06  \n",
       "13687  8734.5  404.181230  3.530321e+06  \n",
       "13686  8635.5  328.329203  2.835287e+06  \n",
       "13685  8732.5  147.169508  1.285158e+06  \n",
       "13684  8930.0  146.216882  1.305717e+06  \n",
       "13683  8870.0  266.639717  2.365094e+06  \n",
       "13682  8768.0  161.650918  1.417355e+06  \n",
       "13681  8788.5   56.447502  4.960889e+05  \n",
       "13680  8821.0  128.887370  1.136915e+06  \n",
       "13679  8855.0  118.812448  1.052084e+06  \n",
       "13678  8951.0   92.431231  8.273520e+05  \n",
       "13677  9304.5  578.979390  5.387114e+06  \n",
       "13676  9169.0  308.433318  2.828025e+06  \n",
       "13675  9383.5  117.679834  1.104249e+06  \n",
       "13674  9327.0  389.720786  3.634926e+06  \n",
       "13673  9185.5  284.333351  2.611744e+06  "
      ]
     },
     "execution_count": 90,
     "metadata": {},
     "output_type": "execute_result"
    }
   ],
   "source": [
    "data_cleaned = clean_data(data_df)\n",
    "data_cleaned.head(25)"
   ]
  },
  {
   "cell_type": "code",
   "execution_count": 7,
   "id": "a4f70dd2",
   "metadata": {
    "ExecuteTime": {
     "end_time": "2021-11-29T16:01:15.083952Z",
     "start_time": "2021-11-29T16:01:13.830484Z"
    }
   },
   "outputs": [
    {
     "name": "stdout",
     "output_type": "stream",
     "text": [
      "data sequenced\n"
     ]
    }
   ],
   "source": [
    "X,y = sequencing(data_cleaned)"
   ]
  },
  {
   "cell_type": "code",
   "execution_count": 8,
   "id": "d8632422",
   "metadata": {
    "ExecuteTime": {
     "end_time": "2021-11-29T16:01:15.115094Z",
     "start_time": "2021-11-29T16:01:15.094019Z"
    }
   },
   "outputs": [
    {
     "data": {
      "text/plain": [
       "(array([[ 7961. ,  7957. ,  7993. , ...,  8368.5,  8382. ,  8605. ],\n",
       "        [ 7957. ,  7993. ,  8130. , ...,  8382. ,  8605. ,  8734.5],\n",
       "        [ 7993. ,  8130. ,  8142. , ...,  8605. ,  8734.5,  8635.5],\n",
       "        ...,\n",
       "        [58670. , 58598. , 58512. , ..., 59462. , 59480. , 59452. ],\n",
       "        [58598. , 58512. , 58390. , ..., 59480. , 59452. , 59636. ],\n",
       "        [58512. , 58390. , 57658. , ..., 59452. , 59636. , 59723. ]]),\n",
       " array([ 8734.5,  8635.5,  8732.5, ..., 59636. , 59723. , 59744. ]))"
      ]
     },
     "execution_count": 8,
     "metadata": {},
     "output_type": "execute_result"
    }
   ],
   "source": [
    "X, y"
   ]
  },
  {
   "cell_type": "code",
   "execution_count": 9,
   "id": "4fa3636e",
   "metadata": {
    "ExecuteTime": {
     "end_time": "2021-11-29T16:01:15.166228Z",
     "start_time": "2021-11-29T16:01:15.134704Z"
    }
   },
   "outputs": [],
   "source": [
    "X_scaled, y_scaled, scaler_x, scaler_y = scaler(X,y)"
   ]
  },
  {
   "cell_type": "code",
   "execution_count": 10,
   "id": "4b70923f",
   "metadata": {
    "ExecuteTime": {
     "end_time": "2021-11-29T16:01:15.209932Z",
     "start_time": "2021-11-29T16:01:15.170335Z"
    }
   },
   "outputs": [
    {
     "data": {
      "text/plain": [
       "(array([[[6.59174055e-05, 0.00000000e+00, 0.00000000e+00, ...,\n",
       "          1.57374659e-03, 1.79738427e-03, 5.49154732e-03]],\n",
       " \n",
       "        [[0.00000000e+00, 5.93256649e-04, 2.25901131e-03, ...,\n",
       "          1.79738427e-03, 5.49154732e-03, 7.63681242e-03]],\n",
       " \n",
       "        [[5.93256649e-04, 2.85092779e-03, 2.45688092e-03, ...,\n",
       "          5.49154732e-03, 7.63681242e-03, 5.99680281e-03]],\n",
       " \n",
       "        ...,\n",
       " \n",
       "        [[8.35717346e-01, 8.34530833e-01, 8.33014543e-01, ...,\n",
       "          8.47976079e-01, 8.48274263e-01, 8.47810422e-01]],\n",
       " \n",
       "        [[8.34530833e-01, 8.33113609e-01, 8.31002869e-01, ...,\n",
       "          8.48274263e-01, 8.47810422e-01, 8.50858520e-01]],\n",
       " \n",
       "        [[8.33113609e-01, 8.31103128e-01, 8.18932823e-01, ...,\n",
       "          8.47810422e-01, 8.50858520e-01, 8.52299741e-01]]]),\n",
       " array([[0.00763681],\n",
       "        [0.0059968 ],\n",
       "        [0.00760368],\n",
       "        ...,\n",
       "        [0.85085852],\n",
       "        [0.85229974],\n",
       "        [0.85264762]]))"
      ]
     },
     "execution_count": 10,
     "metadata": {},
     "output_type": "execute_result"
    }
   ],
   "source": [
    "X_scaled, y_scaled "
   ]
  },
  {
   "cell_type": "code",
   "execution_count": 11,
   "id": "4c0d3119",
   "metadata": {
    "ExecuteTime": {
     "end_time": "2021-11-29T16:01:15.265002Z",
     "start_time": "2021-11-29T16:01:15.215773Z"
    }
   },
   "outputs": [],
   "source": [
    "X_train, X_test, y_train, y_test = split(X_scaled, y_scaled)"
   ]
  },
  {
   "cell_type": "code",
   "execution_count": 12,
   "id": "fac6cd23",
   "metadata": {
    "ExecuteTime": {
     "end_time": "2021-11-29T16:01:15.300902Z",
     "start_time": "2021-11-29T16:01:15.274297Z"
    }
   },
   "outputs": [
    {
     "data": {
      "text/plain": [
       "array([[[0.80839458, 0.80616987, 0.8094021 , ..., 0.80503765,\n",
       "         0.8065617 , 0.81219405]],\n",
       "\n",
       "       [[0.9853169 , 0.97811542, 0.97239719, ..., 0.96703415,\n",
       "         0.96211412, 0.96496343]],\n",
       "\n",
       "       [[0.89810817, 0.90212913, 0.89720674, ..., 0.88900945,\n",
       "         0.88165426, 0.88859531]],\n",
       "\n",
       "       ...,\n",
       "\n",
       "       [[0.02399394, 0.02400218, 0.02352175, ..., 0.01928254,\n",
       "         0.01988719, 0.01971325]],\n",
       "\n",
       "       [[0.84972479, 0.83398701, 0.84348514, ..., 0.86495598,\n",
       "         0.86078141, 0.85490056]],\n",
       "\n",
       "       [[0.46447052, 0.46147128, 0.47681628, ..., 0.47582642,\n",
       "         0.47831129, 0.47529632]]])"
      ]
     },
     "execution_count": 12,
     "metadata": {},
     "output_type": "execute_result"
    }
   ],
   "source": [
    "X_train "
   ]
  },
  {
   "cell_type": "code",
   "execution_count": 13,
   "id": "c11f3708",
   "metadata": {
    "ExecuteTime": {
     "end_time": "2021-11-29T16:01:15.327539Z",
     "start_time": "2021-11-29T16:01:15.313832Z"
    }
   },
   "outputs": [],
   "source": [
    "test = Model(X_train, y_train, scaler_y, scaler_x, X_scaled)"
   ]
  },
  {
   "cell_type": "code",
   "execution_count": 14,
   "id": "b0c861ef",
   "metadata": {
    "ExecuteTime": {
     "end_time": "2021-11-29T16:01:16.208682Z",
     "start_time": "2021-11-29T16:01:15.338474Z"
    },
    "scrolled": true
   },
   "outputs": [
    {
     "name": "stderr",
     "output_type": "stream",
     "text": [
      "2021-11-29 17:01:15.363521: W tensorflow/stream_executor/platform/default/dso_loader.cc:64] Could not load dynamic library 'libcuda.so.1'; dlerror: libcuda.so.1: cannot open shared object file: No such file or directory\n",
      "2021-11-29 17:01:15.363668: W tensorflow/stream_executor/cuda/cuda_driver.cc:269] failed call to cuInit: UNKNOWN ERROR (303)\n",
      "2021-11-29 17:01:15.363751: I tensorflow/stream_executor/cuda/cuda_diagnostics.cc:156] kernel driver does not appear to be running on this host (LAPTOP-JM9NF235): /proc/driver/nvidia/version does not exist\n",
      "2021-11-29 17:01:15.371117: I tensorflow/core/platform/cpu_feature_guard.cc:151] This TensorFlow binary is optimized with oneAPI Deep Neural Network Library (oneDNN) to use the following CPU instructions in performance-critical operations:  AVX2 FMA\n",
      "To enable them in other operations, rebuild TensorFlow with the appropriate compiler flags.\n"
     ]
    },
    {
     "name": "stdout",
     "output_type": "stream",
     "text": [
      "Model: \"sequential\"\n",
      "_________________________________________________________________\n",
      " Layer (type)                Output Shape              Param #   \n",
      "=================================================================\n",
      " lstm (LSTM)                 (None, None, 128)         71168     \n",
      "                                                                 \n",
      " dropout (Dropout)           (None, None, 128)         0         \n",
      "                                                                 \n",
      " lstm_1 (LSTM)               (None, None, 256)         394240    \n",
      "                                                                 \n",
      " dropout_1 (Dropout)         (None, None, 256)         0         \n",
      "                                                                 \n",
      " dense (Dense)               (None, None, 1)           257       \n",
      "                                                                 \n",
      "=================================================================\n",
      "Total params: 465,665\n",
      "Trainable params: 465,665\n",
      "Non-trainable params: 0\n",
      "_________________________________________________________________\n"
     ]
    }
   ],
   "source": [
    "model = test.lstm_model()"
   ]
  },
  {
   "cell_type": "code",
   "execution_count": 15,
   "id": "8b178382",
   "metadata": {
    "ExecuteTime": {
     "end_time": "2021-11-29T16:01:16.253748Z",
     "start_time": "2021-11-29T16:01:16.230017Z"
    }
   },
   "outputs": [],
   "source": [
    "es = test.early_stop()"
   ]
  },
  {
   "cell_type": "code",
   "execution_count": 16,
   "id": "ed93645e",
   "metadata": {
    "ExecuteTime": {
     "end_time": "2021-11-29T16:03:06.307845Z",
     "start_time": "2021-11-29T16:01:16.262554Z"
    },
    "scrolled": true
   },
   "outputs": [
    {
     "name": "stdout",
     "output_type": "stream",
     "text": [
      "Epoch 1/100\n",
      "308/308 [==============================] - 8s 15ms/step - loss: 0.0870 - mse: 0.0870 - val_loss: 0.0025 - val_mse: 0.0025\n",
      "Epoch 2/100\n",
      "308/308 [==============================] - 4s 14ms/step - loss: 0.0027 - mse: 0.0027 - val_loss: 3.7868e-04 - val_mse: 3.7868e-04\n",
      "Epoch 3/100\n",
      "308/308 [==============================] - 5s 15ms/step - loss: 0.0019 - mse: 0.0019 - val_loss: 2.1403e-04 - val_mse: 2.1403e-04\n",
      "Epoch 4/100\n",
      "308/308 [==============================] - 6s 19ms/step - loss: 0.0017 - mse: 0.0017 - val_loss: 1.7471e-04 - val_mse: 1.7471e-04\n",
      "Epoch 5/100\n",
      "308/308 [==============================] - 6s 21ms/step - loss: 0.0016 - mse: 0.0016 - val_loss: 1.5928e-04 - val_mse: 1.5928e-04\n",
      "Epoch 6/100\n",
      "308/308 [==============================] - 6s 19ms/step - loss: 0.0016 - mse: 0.0016 - val_loss: 1.3263e-04 - val_mse: 1.3263e-04\n",
      "Epoch 7/100\n",
      "308/308 [==============================] - 4s 14ms/step - loss: 0.0016 - mse: 0.0016 - val_loss: 1.0425e-04 - val_mse: 1.0425e-04\n",
      "Epoch 8/100\n",
      "308/308 [==============================] - 5s 15ms/step - loss: 0.0014 - mse: 0.0014 - val_loss: 1.0027e-04 - val_mse: 1.0027e-04\n",
      "Epoch 9/100\n",
      "308/308 [==============================] - 5s 15ms/step - loss: 0.0014 - mse: 0.0014 - val_loss: 1.3260e-04 - val_mse: 1.3260e-04\n",
      "Epoch 10/100\n",
      "308/308 [==============================] - 5s 15ms/step - loss: 0.0014 - mse: 0.0014 - val_loss: 1.5989e-04 - val_mse: 1.5989e-04\n",
      "Epoch 11/100\n",
      "308/308 [==============================] - 5s 15ms/step - loss: 0.0013 - mse: 0.0013 - val_loss: 1.6573e-04 - val_mse: 1.6573e-04\n",
      "Epoch 12/100\n",
      "308/308 [==============================] - 5s 15ms/step - loss: 0.0013 - mse: 0.0013 - val_loss: 9.4156e-05 - val_mse: 9.4156e-05\n",
      "Epoch 13/100\n",
      "308/308 [==============================] - 5s 15ms/step - loss: 0.0012 - mse: 0.0012 - val_loss: 1.2824e-04 - val_mse: 1.2824e-04\n",
      "Epoch 14/100\n",
      "308/308 [==============================] - 5s 16ms/step - loss: 0.0012 - mse: 0.0012 - val_loss: 1.1797e-04 - val_mse: 1.1797e-04\n",
      "Epoch 15/100\n",
      "308/308 [==============================] - 5s 15ms/step - loss: 0.0012 - mse: 0.0012 - val_loss: 1.1905e-04 - val_mse: 1.1905e-04\n",
      "Epoch 16/100\n",
      "308/308 [==============================] - 5s 15ms/step - loss: 0.0011 - mse: 0.0011 - val_loss: 9.7580e-05 - val_mse: 9.7580e-05\n",
      "Epoch 17/100\n",
      "308/308 [==============================] - 5s 15ms/step - loss: 0.0011 - mse: 0.0011 - val_loss: 1.0845e-04 - val_mse: 1.0845e-04\n",
      "Epoch 18/100\n",
      "308/308 [==============================] - 5s 15ms/step - loss: 0.0011 - mse: 0.0011 - val_loss: 1.1144e-04 - val_mse: 1.1144e-04\n",
      "Epoch 19/100\n",
      "308/308 [==============================] - 5s 15ms/step - loss: 0.0011 - mse: 0.0011 - val_loss: 1.0768e-04 - val_mse: 1.0768e-04\n",
      "Epoch 20/100\n",
      "308/308 [==============================] - 5s 15ms/step - loss: 0.0010 - mse: 0.0010 - val_loss: 1.0290e-04 - val_mse: 1.0290e-04\n",
      "Epoch 21/100\n",
      "308/308 [==============================] - 5s 17ms/step - loss: 0.0010 - mse: 0.0010 - val_loss: 9.8925e-05 - val_mse: 9.8925e-05\n",
      "Epoch 22/100\n",
      "308/308 [==============================] - 5s 16ms/step - loss: 9.8020e-04 - mse: 9.8020e-04 - val_loss: 1.0679e-04 - val_mse: 1.0679e-04\n"
     ]
    }
   ],
   "source": [
    "test.fit()"
   ]
  },
  {
   "cell_type": "code",
   "execution_count": 17,
   "id": "dc2471dd",
   "metadata": {
    "ExecuteTime": {
     "end_time": "2021-11-29T16:03:44.668422Z",
     "start_time": "2021-11-29T16:03:06.310587Z"
    },
    "scrolled": true
   },
   "outputs": [
    {
     "data": {
      "image/png": "[encoded data removed]",
      "text/plain": [
       "<Figure size 986.4x739.44 with 1 Axes>"
      ]
     },
     "metadata": {},
     "output_type": "display_data"
    }
   ],
   "source": [
    "test.graphing(y)"
   ]
  },
  {
   "cell_type": "code",
   "execution_count": 64,
   "id": "4a4306fb",
   "metadata": {
    "ExecuteTime": {
     "end_time": "2021-11-29T16:42:58.695086Z",
     "start_time": "2021-11-29T16:42:58.688254Z"
    },
    "scrolled": true
   },
   "outputs": [
    {
     "data": {
      "text/plain": [
       "(13687, 1, 10)"
      ]
     },
     "execution_count": 64,
     "metadata": {},
     "output_type": "execute_result"
    }
   ],
   "source": [
    "X_scaled.shape"
   ]
  },
  {
   "cell_type": "code",
   "execution_count": 133,
   "id": "38aceed2",
   "metadata": {
    "ExecuteTime": {
     "end_time": "2021-11-29T17:10:28.470350Z",
     "start_time": "2021-11-29T17:10:28.464251Z"
    }
   },
   "outputs": [
    {
     "data": {
      "text/plain": [
       "array([7957. , 7993. , 8130. , 8142. , 8264. , 8314.5, 8368.5, 8382. ,\n",
       "       8605. , 8734.5])"
      ]
     },
     "execution_count": 133,
     "metadata": {},
     "output_type": "execute_result"
    }
   ],
   "source": [
    "X[1]"
   ]
  },
  {
   "cell_type": "code",
   "execution_count": 134,
   "id": "a341b99d",
   "metadata": {
    "ExecuteTime": {
     "end_time": "2021-11-29T17:10:32.549667Z",
     "start_time": "2021-11-29T17:10:32.541950Z"
    },
    "scrolled": true
   },
   "outputs": [
    {
     "data": {
      "text/plain": [
       "array([[8734.5]])"
      ]
     },
     "execution_count": 134,
     "metadata": {},
     "output_type": "execute_result"
    }
   ],
   "source": [
    "test.scaler_y.inverse_transform(X_scaled[1][0][9].reshape((1,1)))"
   ]
  },
  {
   "cell_type": "code",
   "execution_count": 135,
   "id": "e436a555",
   "metadata": {
    "ExecuteTime": {
     "end_time": "2021-11-29T17:10:36.109703Z",
     "start_time": "2021-11-29T17:10:35.996705Z"
    }
   },
   "outputs": [],
   "source": [
    "prediction = test.model.predict(X_scaled[1].reshape((1,1,10)))"
   ]
  },
  {
   "cell_type": "code",
   "execution_count": 136,
   "id": "82d28345",
   "metadata": {
    "ExecuteTime": {
     "end_time": "2021-11-29T17:10:38.162377Z",
     "start_time": "2021-11-29T17:10:38.149427Z"
    }
   },
   "outputs": [
    {
     "data": {
      "text/plain": [
       "array([[0.01078324]], dtype=float32)"
      ]
     },
     "execution_count": 136,
     "metadata": {},
     "output_type": "execute_result"
    }
   ],
   "source": [
    "prediction = prediction.reshape((1,1))\n",
    "prediction"
   ]
  },
  {
   "cell_type": "code",
   "execution_count": 137,
   "id": "b2e12bd9",
   "metadata": {
    "ExecuteTime": {
     "end_time": "2021-11-29T17:10:39.408527Z",
     "start_time": "2021-11-29T17:10:39.400968Z"
    },
    "scrolled": true
   },
   "outputs": [
    {
     "data": {
      "text/plain": [
       "array([[8924.436]], dtype=float32)"
      ]
     },
     "execution_count": 137,
     "metadata": {},
     "output_type": "execute_result"
    }
   ],
   "source": [
    "test.scaler_y.inverse_transform(prediction)"
   ]
  },
  {
   "cell_type": "code",
   "execution_count": null,
   "id": "de4a0b05",
   "metadata": {},
   "outputs": [],
   "source": []
  }
 ],
 "metadata": {
  "kernelspec": {
   "display_name": "Python 3 (ipykernel)",
   "language": "python",
   "name": "python3"
  },
  "language_info": {
   "codemirror_mode": {
    "name": "ipython",
    "version": 3
   },
   "file_extension": ".py",
   "mimetype": "text/x-python",
   "name": "python",
   "nbconvert_exporter": "python",
   "pygments_lexer": "ipython3",
   "version": "3.8.12"
  },
  "toc": {
   "base_numbering": 1,
   "nav_menu": {},
   "number_sections": true,
   "sideBar": true,
   "skip_h1_title": false,
   "title_cell": "Table of Contents",
   "title_sidebar": "Contents",
   "toc_cell": false,
   "toc_position": {},
   "toc_section_display": true,
   "toc_window_display": false
  }
 },
 "nbformat": 4,
 "nbformat_minor": 5
}
